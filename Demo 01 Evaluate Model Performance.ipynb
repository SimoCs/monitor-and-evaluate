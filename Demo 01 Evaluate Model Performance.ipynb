{
  "nbformat": 4,
  "nbformat_minor": 0,
  "metadata": {
    "colab": {
      "provenance": []
    },
    "kernelspec": {
      "name": "python3",
      "display_name": "Python 3"
    },
    "language_info": {
      "name": "python"
    }
  },
  "cells": [
    {
      "cell_type": "markdown",
      "source": [
        "## Setup:"
      ],
      "metadata": {
        "id": "friGw9p_PVEz"
      }
    },
    {
      "cell_type": "code",
      "source": [
        "import pandas as pd\n",
        "\n",
        "from tensorflow import keras\n",
        "from keras.layers import Dense\n",
        "from keras.models import Sequential\n",
        "\n",
        "from sklearn.model_selection import train_test_split\n",
        "from sklearn.preprocessing import LabelEncoder, StandardScaler\n",
        "from sklearn.metrics import accuracy_score, precision_score, recall_score, f1_score"
      ],
      "metadata": {
        "id": "FX0gHuetPUYf"
      },
      "execution_count": 16,
      "outputs": []
    },
    {
      "cell_type": "markdown",
      "source": [
        "## Data Loading and Initial Exploration:"
      ],
      "metadata": {
        "id": "1Q4cK0tzPqTt"
      }
    },
    {
      "cell_type": "code",
      "source": [
        "# Load the dataset\n",
        "file_path = 'Auto Claims.csv'\n",
        "auto_claims_data = pd.read_csv(file_path)"
      ],
      "metadata": {
        "id": "qHqw_mryPqHX"
      },
      "execution_count": 17,
      "outputs": []
    },
    {
      "cell_type": "code",
      "source": [
        "# Display basic information about the dataset\n",
        "auto_claims_data.info()"
      ],
      "metadata": {
        "colab": {
          "base_uri": "https://localhost:8080/"
        },
        "id": "CT8KLfIFQxe-",
        "outputId": "c9f5b41b-6632-4136-dc5c-e5ade55fc554"
      },
      "execution_count": 18,
      "outputs": [
        {
          "output_type": "stream",
          "name": "stdout",
          "text": [
            "<class 'pandas.core.frame.DataFrame'>\n",
            "RangeIndex: 100 entries, 0 to 99\n",
            "Data columns (total 9 columns):\n",
            " #   Column            Non-Null Count  Dtype \n",
            "---  ------            --------------  ----- \n",
            " 0   Claim ID          100 non-null    int64 \n",
            " 1   Date of Accident  100 non-null    object\n",
            " 2   Date of Claim     100 non-null    object\n",
            " 3   Policy Holder ID  100 non-null    int64 \n",
            " 4   Vehicle Make      100 non-null    object\n",
            " 5   Vehicle Model     100 non-null    object\n",
            " 6   Vehicle Year      100 non-null    int64 \n",
            " 7   Claim Amount      100 non-null    int64 \n",
            " 8   Claim Status      100 non-null    object\n",
            "dtypes: int64(4), object(5)\n",
            "memory usage: 7.2+ KB\n"
          ]
        }
      ]
    },
    {
      "cell_type": "code",
      "source": [
        "# Display the dataset\n",
        "auto_claims_data.head()"
      ],
      "metadata": {
        "colab": {
          "base_uri": "https://localhost:8080/",
          "height": 206
        },
        "id": "suRPsTI-QzYi",
        "outputId": "ae6c2505-dd89-42c0-e677-4ef895309da5"
      },
      "execution_count": 19,
      "outputs": [
        {
          "output_type": "execute_result",
          "data": {
            "text/plain": [
              "   Claim ID Date of Accident Date of Claim  Policy Holder ID Vehicle Make  \\\n",
              "0         1       2022-05-10    2022-05-15              1001       Toyota   \n",
              "1         2       2022-06-05    2022-06-10              1002        Honda   \n",
              "2         3       2022-07-15    2022-07-20              1003      Hyundai   \n",
              "3         4       2022-08-20    2022-08-25              1004         Ford   \n",
              "4         5       2022-09-12    2022-09-15              1005       Toyota   \n",
              "\n",
              "  Vehicle Model  Vehicle Year  Claim Amount Claim Status  \n",
              "0         Camry          2018          5000     Approved  \n",
              "1        Accord          2019          3000     Approved  \n",
              "2        Sonata          2017          8000     Rejected  \n",
              "3        Escape          2020          4000     Approved  \n",
              "4          Rav4          2016          2000     Approved  "
            ],
            "text/html": [
              "\n",
              "  <div id=\"df-aed8b5e6-a286-4f02-8522-b710a3456699\" class=\"colab-df-container\">\n",
              "    <div>\n",
              "<style scoped>\n",
              "    .dataframe tbody tr th:only-of-type {\n",
              "        vertical-align: middle;\n",
              "    }\n",
              "\n",
              "    .dataframe tbody tr th {\n",
              "        vertical-align: top;\n",
              "    }\n",
              "\n",
              "    .dataframe thead th {\n",
              "        text-align: right;\n",
              "    }\n",
              "</style>\n",
              "<table border=\"1\" class=\"dataframe\">\n",
              "  <thead>\n",
              "    <tr style=\"text-align: right;\">\n",
              "      <th></th>\n",
              "      <th>Claim ID</th>\n",
              "      <th>Date of Accident</th>\n",
              "      <th>Date of Claim</th>\n",
              "      <th>Policy Holder ID</th>\n",
              "      <th>Vehicle Make</th>\n",
              "      <th>Vehicle Model</th>\n",
              "      <th>Vehicle Year</th>\n",
              "      <th>Claim Amount</th>\n",
              "      <th>Claim Status</th>\n",
              "    </tr>\n",
              "  </thead>\n",
              "  <tbody>\n",
              "    <tr>\n",
              "      <th>0</th>\n",
              "      <td>1</td>\n",
              "      <td>2022-05-10</td>\n",
              "      <td>2022-05-15</td>\n",
              "      <td>1001</td>\n",
              "      <td>Toyota</td>\n",
              "      <td>Camry</td>\n",
              "      <td>2018</td>\n",
              "      <td>5000</td>\n",
              "      <td>Approved</td>\n",
              "    </tr>\n",
              "    <tr>\n",
              "      <th>1</th>\n",
              "      <td>2</td>\n",
              "      <td>2022-06-05</td>\n",
              "      <td>2022-06-10</td>\n",
              "      <td>1002</td>\n",
              "      <td>Honda</td>\n",
              "      <td>Accord</td>\n",
              "      <td>2019</td>\n",
              "      <td>3000</td>\n",
              "      <td>Approved</td>\n",
              "    </tr>\n",
              "    <tr>\n",
              "      <th>2</th>\n",
              "      <td>3</td>\n",
              "      <td>2022-07-15</td>\n",
              "      <td>2022-07-20</td>\n",
              "      <td>1003</td>\n",
              "      <td>Hyundai</td>\n",
              "      <td>Sonata</td>\n",
              "      <td>2017</td>\n",
              "      <td>8000</td>\n",
              "      <td>Rejected</td>\n",
              "    </tr>\n",
              "    <tr>\n",
              "      <th>3</th>\n",
              "      <td>4</td>\n",
              "      <td>2022-08-20</td>\n",
              "      <td>2022-08-25</td>\n",
              "      <td>1004</td>\n",
              "      <td>Ford</td>\n",
              "      <td>Escape</td>\n",
              "      <td>2020</td>\n",
              "      <td>4000</td>\n",
              "      <td>Approved</td>\n",
              "    </tr>\n",
              "    <tr>\n",
              "      <th>4</th>\n",
              "      <td>5</td>\n",
              "      <td>2022-09-12</td>\n",
              "      <td>2022-09-15</td>\n",
              "      <td>1005</td>\n",
              "      <td>Toyota</td>\n",
              "      <td>Rav4</td>\n",
              "      <td>2016</td>\n",
              "      <td>2000</td>\n",
              "      <td>Approved</td>\n",
              "    </tr>\n",
              "  </tbody>\n",
              "</table>\n",
              "</div>\n",
              "    <div class=\"colab-df-buttons\">\n",
              "\n",
              "  <div class=\"colab-df-container\">\n",
              "    <button class=\"colab-df-convert\" onclick=\"convertToInteractive('df-aed8b5e6-a286-4f02-8522-b710a3456699')\"\n",
              "            title=\"Convert this dataframe to an interactive table.\"\n",
              "            style=\"display:none;\">\n",
              "\n",
              "  <svg xmlns=\"http://www.w3.org/2000/svg\" height=\"24px\" viewBox=\"0 -960 960 960\">\n",
              "    <path d=\"M120-120v-720h720v720H120Zm60-500h600v-160H180v160Zm220 220h160v-160H400v160Zm0 220h160v-160H400v160ZM180-400h160v-160H180v160Zm440 0h160v-160H620v160ZM180-180h160v-160H180v160Zm440 0h160v-160H620v160Z\"/>\n",
              "  </svg>\n",
              "    </button>\n",
              "\n",
              "  <style>\n",
              "    .colab-df-container {\n",
              "      display:flex;\n",
              "      gap: 12px;\n",
              "    }\n",
              "\n",
              "    .colab-df-convert {\n",
              "      background-color: #E8F0FE;\n",
              "      border: none;\n",
              "      border-radius: 50%;\n",
              "      cursor: pointer;\n",
              "      display: none;\n",
              "      fill: #1967D2;\n",
              "      height: 32px;\n",
              "      padding: 0 0 0 0;\n",
              "      width: 32px;\n",
              "    }\n",
              "\n",
              "    .colab-df-convert:hover {\n",
              "      background-color: #E2EBFA;\n",
              "      box-shadow: 0px 1px 2px rgba(60, 64, 67, 0.3), 0px 1px 3px 1px rgba(60, 64, 67, 0.15);\n",
              "      fill: #174EA6;\n",
              "    }\n",
              "\n",
              "    .colab-df-buttons div {\n",
              "      margin-bottom: 4px;\n",
              "    }\n",
              "\n",
              "    [theme=dark] .colab-df-convert {\n",
              "      background-color: #3B4455;\n",
              "      fill: #D2E3FC;\n",
              "    }\n",
              "\n",
              "    [theme=dark] .colab-df-convert:hover {\n",
              "      background-color: #434B5C;\n",
              "      box-shadow: 0px 1px 3px 1px rgba(0, 0, 0, 0.15);\n",
              "      filter: drop-shadow(0px 1px 2px rgba(0, 0, 0, 0.3));\n",
              "      fill: #FFFFFF;\n",
              "    }\n",
              "  </style>\n",
              "\n",
              "    <script>\n",
              "      const buttonEl =\n",
              "        document.querySelector('#df-aed8b5e6-a286-4f02-8522-b710a3456699 button.colab-df-convert');\n",
              "      buttonEl.style.display =\n",
              "        google.colab.kernel.accessAllowed ? 'block' : 'none';\n",
              "\n",
              "      async function convertToInteractive(key) {\n",
              "        const element = document.querySelector('#df-aed8b5e6-a286-4f02-8522-b710a3456699');\n",
              "        const dataTable =\n",
              "          await google.colab.kernel.invokeFunction('convertToInteractive',\n",
              "                                                    [key], {});\n",
              "        if (!dataTable) return;\n",
              "\n",
              "        const docLinkHtml = 'Like what you see? Visit the ' +\n",
              "          '<a target=\"_blank\" href=https://colab.research.google.com/notebooks/data_table.ipynb>data table notebook</a>'\n",
              "          + ' to learn more about interactive tables.';\n",
              "        element.innerHTML = '';\n",
              "        dataTable['output_type'] = 'display_data';\n",
              "        await google.colab.output.renderOutput(dataTable, element);\n",
              "        const docLink = document.createElement('div');\n",
              "        docLink.innerHTML = docLinkHtml;\n",
              "        element.appendChild(docLink);\n",
              "      }\n",
              "    </script>\n",
              "  </div>\n",
              "\n",
              "\n",
              "<div id=\"df-dd426787-556e-4f25-b17d-3d49114b2570\">\n",
              "  <button class=\"colab-df-quickchart\" onclick=\"quickchart('df-dd426787-556e-4f25-b17d-3d49114b2570')\"\n",
              "            title=\"Suggest charts\"\n",
              "            style=\"display:none;\">\n",
              "\n",
              "<svg xmlns=\"http://www.w3.org/2000/svg\" height=\"24px\"viewBox=\"0 0 24 24\"\n",
              "     width=\"24px\">\n",
              "    <g>\n",
              "        <path d=\"M19 3H5c-1.1 0-2 .9-2 2v14c0 1.1.9 2 2 2h14c1.1 0 2-.9 2-2V5c0-1.1-.9-2-2-2zM9 17H7v-7h2v7zm4 0h-2V7h2v10zm4 0h-2v-4h2v4z\"/>\n",
              "    </g>\n",
              "</svg>\n",
              "  </button>\n",
              "\n",
              "<style>\n",
              "  .colab-df-quickchart {\n",
              "      --bg-color: #E8F0FE;\n",
              "      --fill-color: #1967D2;\n",
              "      --hover-bg-color: #E2EBFA;\n",
              "      --hover-fill-color: #174EA6;\n",
              "      --disabled-fill-color: #AAA;\n",
              "      --disabled-bg-color: #DDD;\n",
              "  }\n",
              "\n",
              "  [theme=dark] .colab-df-quickchart {\n",
              "      --bg-color: #3B4455;\n",
              "      --fill-color: #D2E3FC;\n",
              "      --hover-bg-color: #434B5C;\n",
              "      --hover-fill-color: #FFFFFF;\n",
              "      --disabled-bg-color: #3B4455;\n",
              "      --disabled-fill-color: #666;\n",
              "  }\n",
              "\n",
              "  .colab-df-quickchart {\n",
              "    background-color: var(--bg-color);\n",
              "    border: none;\n",
              "    border-radius: 50%;\n",
              "    cursor: pointer;\n",
              "    display: none;\n",
              "    fill: var(--fill-color);\n",
              "    height: 32px;\n",
              "    padding: 0;\n",
              "    width: 32px;\n",
              "  }\n",
              "\n",
              "  .colab-df-quickchart:hover {\n",
              "    background-color: var(--hover-bg-color);\n",
              "    box-shadow: 0 1px 2px rgba(60, 64, 67, 0.3), 0 1px 3px 1px rgba(60, 64, 67, 0.15);\n",
              "    fill: var(--button-hover-fill-color);\n",
              "  }\n",
              "\n",
              "  .colab-df-quickchart-complete:disabled,\n",
              "  .colab-df-quickchart-complete:disabled:hover {\n",
              "    background-color: var(--disabled-bg-color);\n",
              "    fill: var(--disabled-fill-color);\n",
              "    box-shadow: none;\n",
              "  }\n",
              "\n",
              "  .colab-df-spinner {\n",
              "    border: 2px solid var(--fill-color);\n",
              "    border-color: transparent;\n",
              "    border-bottom-color: var(--fill-color);\n",
              "    animation:\n",
              "      spin 1s steps(1) infinite;\n",
              "  }\n",
              "\n",
              "  @keyframes spin {\n",
              "    0% {\n",
              "      border-color: transparent;\n",
              "      border-bottom-color: var(--fill-color);\n",
              "      border-left-color: var(--fill-color);\n",
              "    }\n",
              "    20% {\n",
              "      border-color: transparent;\n",
              "      border-left-color: var(--fill-color);\n",
              "      border-top-color: var(--fill-color);\n",
              "    }\n",
              "    30% {\n",
              "      border-color: transparent;\n",
              "      border-left-color: var(--fill-color);\n",
              "      border-top-color: var(--fill-color);\n",
              "      border-right-color: var(--fill-color);\n",
              "    }\n",
              "    40% {\n",
              "      border-color: transparent;\n",
              "      border-right-color: var(--fill-color);\n",
              "      border-top-color: var(--fill-color);\n",
              "    }\n",
              "    60% {\n",
              "      border-color: transparent;\n",
              "      border-right-color: var(--fill-color);\n",
              "    }\n",
              "    80% {\n",
              "      border-color: transparent;\n",
              "      border-right-color: var(--fill-color);\n",
              "      border-bottom-color: var(--fill-color);\n",
              "    }\n",
              "    90% {\n",
              "      border-color: transparent;\n",
              "      border-bottom-color: var(--fill-color);\n",
              "    }\n",
              "  }\n",
              "</style>\n",
              "\n",
              "  <script>\n",
              "    async function quickchart(key) {\n",
              "      const quickchartButtonEl =\n",
              "        document.querySelector('#' + key + ' button');\n",
              "      quickchartButtonEl.disabled = true;  // To prevent multiple clicks.\n",
              "      quickchartButtonEl.classList.add('colab-df-spinner');\n",
              "      try {\n",
              "        const charts = await google.colab.kernel.invokeFunction(\n",
              "            'suggestCharts', [key], {});\n",
              "      } catch (error) {\n",
              "        console.error('Error during call to suggestCharts:', error);\n",
              "      }\n",
              "      quickchartButtonEl.classList.remove('colab-df-spinner');\n",
              "      quickchartButtonEl.classList.add('colab-df-quickchart-complete');\n",
              "    }\n",
              "    (() => {\n",
              "      let quickchartButtonEl =\n",
              "        document.querySelector('#df-dd426787-556e-4f25-b17d-3d49114b2570 button');\n",
              "      quickchartButtonEl.style.display =\n",
              "        google.colab.kernel.accessAllowed ? 'block' : 'none';\n",
              "    })();\n",
              "  </script>\n",
              "</div>\n",
              "    </div>\n",
              "  </div>\n"
            ]
          },
          "metadata": {},
          "execution_count": 19
        }
      ]
    },
    {
      "cell_type": "markdown",
      "source": [
        "## Data Preprocessing"
      ],
      "metadata": {
        "id": "vuQ7aV4ERA6L"
      }
    },
    {
      "cell_type": "code",
      "source": [
        "# Convert categorical variables using label encoding\n",
        "label_encoder = LabelEncoder()\n",
        "auto_claims_data['Vehicle Make'] = label_encoder.fit_transform(auto_claims_data['Vehicle Make'])\n",
        "auto_claims_data['Vehicle Model'] = label_encoder.fit_transform(auto_claims_data['Vehicle Model'])"
      ],
      "metadata": {
        "id": "B1TD2hj8AzBy"
      },
      "execution_count": 20,
      "outputs": []
    },
    {
      "cell_type": "code",
      "source": [
        "# Convert dates to ordinal numbers\n",
        "auto_claims_data['Date of Accident'] = pd.to_datetime(auto_claims_data['Date of Accident']).apply(lambda x: x.toordinal())\n",
        "auto_claims_data['Date of Claim'] = pd.to_datetime(auto_claims_data['Date of Claim']).apply(lambda x: x.toordinal())"
      ],
      "metadata": {
        "id": "-PcKQzf6AzK2"
      },
      "execution_count": 21,
      "outputs": []
    },
    {
      "cell_type": "markdown",
      "source": [
        "## Feature Selection and Train-Test Split"
      ],
      "metadata": {
        "id": "uYGnOl5oRORe"
      }
    },
    {
      "cell_type": "code",
      "source": [
        "# Assume 'Claim Status' is the target variable and it is binary\n",
        "y = auto_claims_data['Claim Status'].apply(lambda x: 1 if x == 'Approved' else 0)\n",
        "X = auto_claims_data.drop('Claim Status', axis=1)"
      ],
      "metadata": {
        "id": "BU5niswbRPwS"
      },
      "execution_count": 22,
      "outputs": []
    },
    {
      "cell_type": "code",
      "source": [
        "# Scale the feature data\n",
        "scaler = StandardScaler()\n",
        "X_scaled = scaler.fit_transform(X)"
      ],
      "metadata": {
        "id": "7VNzcZI8RRhC"
      },
      "execution_count": 23,
      "outputs": []
    },
    {
      "cell_type": "code",
      "source": [
        "# Split the dataset into training and testing sets\n",
        "X_train, X_test, y_train, y_test = train_test_split(X_scaled, y, test_size=0.2, random_state=42)"
      ],
      "metadata": {
        "id": "dYDKesFiCQPC"
      },
      "execution_count": 24,
      "outputs": []
    },
    {
      "cell_type": "markdown",
      "source": [
        "## Model Training"
      ],
      "metadata": {
        "id": "77m2WhR5RYFF"
      }
    },
    {
      "cell_type": "code",
      "source": [
        "# Define a simple neural network model for binary classification\n",
        "model = Sequential([\n",
        "    Dense(64, activation='relu', input_shape=(X_train.shape[1],)),\n",
        "    Dense(32, activation='relu'),\n",
        "    Dense(1, activation='sigmoid')\n",
        "])"
      ],
      "metadata": {
        "id": "Vg6VVg0rzG-i"
      },
      "execution_count": 25,
      "outputs": []
    },
    {
      "cell_type": "code",
      "source": [
        "# Compile the model\n",
        "model.compile(optimizer='adam', loss='binary_crossentropy', metrics=['accuracy'])"
      ],
      "metadata": {
        "id": "IoRiM1UIywuH"
      },
      "execution_count": 26,
      "outputs": []
    },
    {
      "cell_type": "code",
      "source": [
        "# Train the model\n",
        "history = model.fit(X_train, y_train, epochs=10, validation_split=0.1)"
      ],
      "metadata": {
        "colab": {
          "base_uri": "https://localhost:8080/"
        },
        "id": "qPRDggnQyztM",
        "outputId": "86f64db1-ab6b-4309-9666-d87e6f183461"
      },
      "execution_count": 27,
      "outputs": [
        {
          "output_type": "stream",
          "name": "stdout",
          "text": [
            "Epoch 1/10\n",
            "3/3 [==============================] - 1s 223ms/step - loss: 0.6759 - accuracy: 0.6667 - val_loss: 0.6929 - val_accuracy: 0.6250\n",
            "Epoch 2/10\n",
            "3/3 [==============================] - 0s 26ms/step - loss: 0.6627 - accuracy: 0.6806 - val_loss: 0.6993 - val_accuracy: 0.6250\n",
            "Epoch 3/10\n",
            "3/3 [==============================] - 0s 19ms/step - loss: 0.6518 - accuracy: 0.6528 - val_loss: 0.7042 - val_accuracy: 0.6250\n",
            "Epoch 4/10\n",
            "3/3 [==============================] - 0s 17ms/step - loss: 0.6424 - accuracy: 0.6528 - val_loss: 0.7041 - val_accuracy: 0.6250\n",
            "Epoch 5/10\n",
            "3/3 [==============================] - 0s 18ms/step - loss: 0.6358 - accuracy: 0.6528 - val_loss: 0.7020 - val_accuracy: 0.6250\n",
            "Epoch 6/10\n",
            "3/3 [==============================] - 0s 18ms/step - loss: 0.6307 - accuracy: 0.6528 - val_loss: 0.6957 - val_accuracy: 0.6250\n",
            "Epoch 7/10\n",
            "3/3 [==============================] - 0s 30ms/step - loss: 0.6274 - accuracy: 0.6528 - val_loss: 0.6929 - val_accuracy: 0.6250\n",
            "Epoch 8/10\n",
            "3/3 [==============================] - 0s 19ms/step - loss: 0.6234 - accuracy: 0.6528 - val_loss: 0.6956 - val_accuracy: 0.6250\n",
            "Epoch 9/10\n",
            "3/3 [==============================] - 0s 20ms/step - loss: 0.6197 - accuracy: 0.6528 - val_loss: 0.7020 - val_accuracy: 0.6250\n",
            "Epoch 10/10\n",
            "3/3 [==============================] - 0s 27ms/step - loss: 0.6168 - accuracy: 0.6528 - val_loss: 0.7054 - val_accuracy: 0.6250\n"
          ]
        }
      ]
    },
    {
      "cell_type": "markdown",
      "source": [
        "## Model Evaluation"
      ],
      "metadata": {
        "id": "Y2t9fmkURhsD"
      }
    },
    {
      "cell_type": "code",
      "source": [
        "# Using the model's .predict() method to get predicted probabilities\n",
        "y_probs = model.predict(X_test)\n",
        "\n",
        "# Apply a threshold to the probabilities to get binary class predictions\n",
        "# This is a common practice for binary classification problems\n",
        "y_pred = (y_probs > 0.5).astype(int)"
      ],
      "metadata": {
        "colab": {
          "base_uri": "https://localhost:8080/"
        },
        "id": "q_TwkbCjBhU2",
        "outputId": "6997f564-2b2c-4a8c-9b91-938b03503d16"
      },
      "execution_count": 28,
      "outputs": [
        {
          "output_type": "stream",
          "name": "stdout",
          "text": [
            "1/1 [==============================] - 0s 71ms/step\n"
          ]
        }
      ]
    },
    {
      "cell_type": "code",
      "source": [
        "# Calculate the metrics\n",
        "accuracy = accuracy_score(y_test, y_pred)\n",
        "precision = precision_score(y_test, y_pred)\n",
        "recall = recall_score(y_test, y_pred)\n",
        "f1 = f1_score(y_test, y_pred)\n",
        "\n",
        "# Print the metrics\n",
        "print(f'Accuracy: {accuracy:.4f}')\n",
        "print(f'Precision: {precision:.4f}')\n",
        "print(f'Recall: {recall:.4f}')\n",
        "print(f'F1 Score: {f1:.4f}')"
      ],
      "metadata": {
        "colab": {
          "base_uri": "https://localhost:8080/"
        },
        "id": "U6k35sw1BhXs",
        "outputId": "bbe14b45-9f02-4214-c3a6-52dbfd435e38"
      },
      "execution_count": 29,
      "outputs": [
        {
          "output_type": "stream",
          "name": "stdout",
          "text": [
            "Accuracy: 0.8000\n",
            "Precision: 0.8000\n",
            "Recall: 1.0000\n",
            "F1 Score: 0.8889\n"
          ]
        }
      ]
    },
    {
      "cell_type": "markdown",
      "source": [
        "The metrics provided from our model evaluation on the Auto Claims  dataset suggest the following about its performance:\n",
        "\n",
        "- **Accuracy (0.8000 or 80%):** This indicates that **80%** of the model's predictions are correct. It's a measure of how often the model is correct overall, but it doesn't give us specific insights into how different types of errors are distributed.\n",
        "\n",
        "- **Precision (0.8000 or 80%):** This suggests that when our model predicts a case as positive (Claim Approved), it is correct **80%** of the time. This is an important metric when the cost of false positives is high.\n",
        "\n",
        "- **Recall (1.0000 or 100%):** The model has a perfect recall score, meaning it correctly identified all actual positive cases (all Approved claims). This is crucial when the cost of missing a positive case (false negatives) is high.\n",
        "\n",
        "- **F1 Score (0.8889 or 88.89%):** The F1 score is the harmonic mean of precision and recall, balancing the two metrics. An F1 score of **88.89%** is very high, suggesting that the model has a good balance between precision and recall. This is particularly valuable in cases where both false positives and false negatives are costly."
      ],
      "metadata": {
        "id": "D2wV_TcxElux"
      }
    },
    {
      "cell_type": "markdown",
      "source": [
        "## Interpretation and Considerations:"
      ],
      "metadata": {
        "id": "bmqO7M5sF_Dk"
      }
    },
    {
      "cell_type": "markdown",
      "source": [
        "- The high **recall** indicates that the model is excellent at identifying positive cases, but the **precision** score suggests there's still a **20%** chance of a positive prediction being incorrect.\n",
        "\n",
        "- The **accuracy** and **F1** score are also **high**, which overall suggests the model is performing well on this particular dataset.\n",
        "\n",
        "- However, it's important to consider the context and the dataset's balance. For instance, if the dataset is imbalanced (more Rejected claims than Approved), these metrics might not fully represent the model's performance, as models tend to perform well in the majority class.\n",
        "\n",
        "- Additionally, we should consider other factors like the model's complexity, the dataset's size and diversity, and the potential impact of different types of errors (false positives vs. false negatives) in the specific use case.\n",
        "\n",
        "In summary, our model seems to be performing quite well according to these metrics, especially in correctly identifying all positive cases. However, we should always use additional evaluation techniques (like **confusion matrix** analysis or **ROC curves**) for a more comprehensive assessment."
      ],
      "metadata": {
        "id": "pc1YZycDGVLY"
      }
    }
  ]
}